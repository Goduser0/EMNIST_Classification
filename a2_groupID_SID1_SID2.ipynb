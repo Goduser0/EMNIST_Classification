{
 "cells": [
  {
   "attachments": {},
   "cell_type": "markdown",
   "metadata": {},
   "source": [
    "1.导入所需的包"
   ]
  },
  {
   "cell_type": "code",
   "execution_count": null,
   "metadata": {},
   "outputs": [],
   "source": [
    "import numpy as np\n",
    "import pandas as pd\n",
    "# import keras\n",
    "import sklearn\n",
    "import pickle"
   ]
  },
  {
   "attachments": {},
   "cell_type": "markdown",
   "metadata": {},
   "source": [
    "load dataset"
   ]
  },
  {
   "cell_type": "code",
   "execution_count": 61,
   "metadata": {},
   "outputs": [],
   "source": [
    "dataset_train_dir = './EMNIST_Byclass_Small/emnist_train.pkl'\n",
    "dataset_test_dir = './EMNIST_Byclass_Small/emnist_test.pkl'\n",
    "\n",
    "dataset_train_dict = pickle.load(file=open(dataset_train_dir, 'rb'))\n",
    "dataset_test_dict = pickle.load(file=open(dataset_test_dir, 'rb'))\n",
    "\n",
    "x_train = dataset_train_dict['data'].reshape(100000, 28**2).astype('float32')\n",
    "y_train = dataset_train_dict['labels']\n",
    "\n",
    "x_test = dataset_test_dict['data'].reshape(20000, 28**2).astype('float32')\n",
    "y_test = dataset_test_dict['labels']\n"
   ]
  },
  {
   "attachments": {},
   "cell_type": "markdown",
   "metadata": {},
   "source": [
    "SVM"
   ]
  },
  {
   "cell_type": "code",
   "execution_count": 62,
   "metadata": {},
   "outputs": [],
   "source": [
    "#dataset_train\n",
    "#dataset_test\n",
    "\n",
    "from sklearn import svm\n",
    "from sklearn.metrics import accuracy_score\n",
    "model = svm.SVC(C=100.0, kernel='rbf', gamma=0.03)\n",
    "model.fit(x_train/255, y_train)\n",
    "\n",
    "predictions = [int(a) for a in model.predict(x_test/255)]\n",
    "print('accuracy=', accuracy_score(y_test, predictions))\n"
   ]
  }
 ],
 "metadata": {
  "kernelspec": {
   "display_name": ".venv",
   "language": "python",
   "name": "python3"
  },
  "language_info": {
   "codemirror_mode": {
    "name": "ipython",
    "version": 3
   },
   "file_extension": ".py",
   "mimetype": "text/x-python",
   "name": "python",
   "nbconvert_exporter": "python",
   "pygments_lexer": "ipython3",
   "version": "3.9.6"
  },
  "orig_nbformat": 4
 },
 "nbformat": 4,
 "nbformat_minor": 2
}
